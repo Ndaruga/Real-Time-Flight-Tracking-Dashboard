{
 "cells": [
  {
   "cell_type": "code",
   "execution_count": 1,
   "id": "67477710-0fd2-4103-9fbe-99a21c9ecb02",
   "metadata": {},
   "outputs": [
    {
     "data": {
      "text/plain": [
       "True"
      ]
     },
     "execution_count": 1,
     "metadata": {},
     "output_type": "execute_result"
    }
   ],
   "source": [
    "import pandas as pd\n",
    "import os\n",
    "from dotenv import load_dotenv\n",
    "\n",
    "load_dotenv()"
   ]
  },
  {
   "cell_type": "code",
   "execution_count": 2,
   "id": "5eb62f5a-7578-406b-9359-6da092cad4b9",
   "metadata": {},
   "outputs": [],
   "source": [
    "# !pip install python_dotenv"
   ]
  },
  {
   "cell_type": "markdown",
   "id": "8ca89354-6df7-4daa-adf8-3c4f0d0382cf",
   "metadata": {},
   "source": [
    "### Create Database: World_Airports IF IT DOESNT EXIST"
   ]
  },
  {
   "cell_type": "code",
   "execution_count": 3,
   "id": "61cc118a-5f6c-4134-86b0-9581f5a85db0",
   "metadata": {},
   "outputs": [],
   "source": [
    "DATABASE_NAME=\"World_airports\""
   ]
  },
  {
   "cell_type": "code",
   "execution_count": 4,
   "id": "85c412e3-2da3-4119-9bc8-01ec6a13dbb6",
   "metadata": {},
   "outputs": [
    {
     "name": "stdout",
     "output_type": "stream",
     "text": [
      "Database World_airports created successfully........\n"
     ]
    }
   ],
   "source": [
    "# Make database connection\n",
    "import psycopg2\n",
    "\n",
    "conn = psycopg2.connect(\n",
    "   database=os.environ.get(\"POSTGRES_DATABASE\"),\n",
    "    user=os.environ.get(\"POSTGRES_USER\"),\n",
    "    password=os.environ.get(\"POSTGRES_PASSWORD\"),\n",
    "    host=os.environ.get(\"POSTGRES_HOST\"),\n",
    "    port= os.environ.get(\"POSTGRES_PORT\")\n",
    ")\n",
    "conn.autocommit = True\n",
    "\n",
    "#Creating a cursor object using the cursor() method\n",
    "cursor = conn.cursor()\n",
    "\n",
    "#Preparing query to create a database\n",
    "sql_drop_db = f'''DROP DATABASE IF EXISTS {DATABASE_NAME}''';\n",
    "\n",
    "sql_create_db= f'''CREATE DATABASE {DATABASE_NAME}\n",
    "                    WITH\n",
    "                    OWNER = {os.environ.get('POSTGRES_USER')}\n",
    "                    ENCODING = 'UTF8'\n",
    "                    LC_COLLATE = 'en_US.utf8'\n",
    "                    LC_CTYPE = 'en_US.utf8'\n",
    "                    LOCALE_PROVIDER = 'libc'\n",
    "                    TABLESPACE = pg_default\n",
    "                    CONNECTION LIMIT = -1\n",
    "                    IS_TEMPLATE = False''';\n",
    "\n",
    "\n",
    "#Creating a database\n",
    "cursor.execute(sql_drop_db)\n",
    "cursor.execute(sql_create_db)\n",
    "print(f\"Database {DATABASE_NAME} created successfully........\")\n",
    "\n"
   ]
  },
  {
   "cell_type": "code",
   "execution_count": 5,
   "id": "90246c0e-6155-4c3d-97a8-ff5153053f98",
   "metadata": {},
   "outputs": [
    {
     "data": {
      "text/plain": [
       "['regions.csv', 'countries.csv', 'runways.csv', 'airports.csv']"
      ]
     },
     "execution_count": 5,
     "metadata": {},
     "output_type": "execute_result"
    }
   ],
   "source": [
    "os.listdir(\"./data\")"
   ]
  },
  {
   "cell_type": "code",
   "execution_count": 6,
   "id": "74287a16-6e87-4ce9-b669-428d302c8f8e",
   "metadata": {},
   "outputs": [
    {
     "data": {
      "text/html": [
       "<div>\n",
       "<style scoped>\n",
       "    .dataframe tbody tr th:only-of-type {\n",
       "        vertical-align: middle;\n",
       "    }\n",
       "\n",
       "    .dataframe tbody tr th {\n",
       "        vertical-align: top;\n",
       "    }\n",
       "\n",
       "    .dataframe thead th {\n",
       "        text-align: right;\n",
       "    }\n",
       "</style>\n",
       "<table border=\"1\" class=\"dataframe\">\n",
       "  <thead>\n",
       "    <tr style=\"text-align: right;\">\n",
       "      <th></th>\n",
       "      <th>id</th>\n",
       "      <th>code</th>\n",
       "      <th>local_code</th>\n",
       "      <th>name</th>\n",
       "      <th>continent</th>\n",
       "      <th>iso_country</th>\n",
       "      <th>wikipedia_link</th>\n",
       "      <th>keywords</th>\n",
       "    </tr>\n",
       "  </thead>\n",
       "  <tbody>\n",
       "    <tr>\n",
       "      <th>0</th>\n",
       "      <td>302811</td>\n",
       "      <td>AD-02</td>\n",
       "      <td>02</td>\n",
       "      <td>Canillo Parish</td>\n",
       "      <td>EU</td>\n",
       "      <td>AD</td>\n",
       "      <td>https://en.wikipedia.org/wiki/Canillo</td>\n",
       "      <td>Airports in Canillo Parish</td>\n",
       "    </tr>\n",
       "    <tr>\n",
       "      <th>1</th>\n",
       "      <td>302812</td>\n",
       "      <td>AD-03</td>\n",
       "      <td>03</td>\n",
       "      <td>Encamp Parish</td>\n",
       "      <td>EU</td>\n",
       "      <td>AD</td>\n",
       "      <td>https://en.wikipedia.org/wiki/Encamp</td>\n",
       "      <td>Airports in Encamp Parish</td>\n",
       "    </tr>\n",
       "    <tr>\n",
       "      <th>2</th>\n",
       "      <td>302813</td>\n",
       "      <td>AD-04</td>\n",
       "      <td>04</td>\n",
       "      <td>La Massana Parish</td>\n",
       "      <td>EU</td>\n",
       "      <td>AD</td>\n",
       "      <td>https://en.wikipedia.org/wiki/La_Massana</td>\n",
       "      <td>Airports in La Massana Parish</td>\n",
       "    </tr>\n",
       "    <tr>\n",
       "      <th>3</th>\n",
       "      <td>302814</td>\n",
       "      <td>AD-05</td>\n",
       "      <td>05</td>\n",
       "      <td>Ordino Parish</td>\n",
       "      <td>EU</td>\n",
       "      <td>AD</td>\n",
       "      <td>https://en.wikipedia.org/wiki/Ordino</td>\n",
       "      <td>Airports in Ordino Parish</td>\n",
       "    </tr>\n",
       "    <tr>\n",
       "      <th>4</th>\n",
       "      <td>302815</td>\n",
       "      <td>AD-06</td>\n",
       "      <td>06</td>\n",
       "      <td>Sant Julià de Lòria Parish</td>\n",
       "      <td>EU</td>\n",
       "      <td>AD</td>\n",
       "      <td>https://en.wikipedia.org/wiki/Sant_Julià_de_Lòria</td>\n",
       "      <td>Airports in Sant Julià de Lòria Parish</td>\n",
       "    </tr>\n",
       "  </tbody>\n",
       "</table>\n",
       "</div>"
      ],
      "text/plain": [
       "       id   code local_code                        name continent iso_country  \\\n",
       "0  302811  AD-02         02              Canillo Parish        EU          AD   \n",
       "1  302812  AD-03         03               Encamp Parish        EU          AD   \n",
       "2  302813  AD-04         04           La Massana Parish        EU          AD   \n",
       "3  302814  AD-05         05               Ordino Parish        EU          AD   \n",
       "4  302815  AD-06         06  Sant Julià de Lòria Parish        EU          AD   \n",
       "\n",
       "                                      wikipedia_link  \\\n",
       "0              https://en.wikipedia.org/wiki/Canillo   \n",
       "1               https://en.wikipedia.org/wiki/Encamp   \n",
       "2           https://en.wikipedia.org/wiki/La_Massana   \n",
       "3               https://en.wikipedia.org/wiki/Ordino   \n",
       "4  https://en.wikipedia.org/wiki/Sant_Julià_de_Lòria   \n",
       "\n",
       "                                 keywords  \n",
       "0              Airports in Canillo Parish  \n",
       "1               Airports in Encamp Parish  \n",
       "2           Airports in La Massana Parish  \n",
       "3               Airports in Ordino Parish  \n",
       "4  Airports in Sant Julià de Lòria Parish  "
      ]
     },
     "execution_count": 6,
     "metadata": {},
     "output_type": "execute_result"
    }
   ],
   "source": [
    "data= pd.read_csv(\"data/regions.csv\")\n",
    "data.head(5)"
   ]
  },
  {
   "cell_type": "code",
   "execution_count": 7,
   "id": "fdb5b487-eb95-4cd9-b0fd-d60166340051",
   "metadata": {},
   "outputs": [
    {
     "name": "stdout",
     "output_type": "stream",
     "text": [
      "Index(['id', 'code', 'local_code', 'name', 'continent', 'iso_country',\n",
      "       'wikipedia_link', 'keywords'],\n",
      "      dtype='object')\n"
     ]
    }
   ],
   "source": [
    "print(data.columns)"
   ]
  },
  {
   "cell_type": "code",
   "execution_count": null,
   "id": "649279eb-a9d0-484f-b082-ea38093c82b3",
   "metadata": {},
   "outputs": [],
   "source": []
  },
  {
   "cell_type": "code",
   "execution_count": 8,
   "id": "74235efd-ebc4-4fc6-809b-18eb226e3e13",
   "metadata": {},
   "outputs": [],
   "source": [
    "#Closing the connection\n",
    "conn.close()"
   ]
  }
 ],
 "metadata": {
  "kernelspec": {
   "display_name": "Python 3 (ipykernel)",
   "language": "python",
   "name": "python3"
  },
  "language_info": {
   "codemirror_mode": {
    "name": "ipython",
    "version": 3
   },
   "file_extension": ".py",
   "mimetype": "text/x-python",
   "name": "python",
   "nbconvert_exporter": "python",
   "pygments_lexer": "ipython3",
   "version": "3.11.7"
  }
 },
 "nbformat": 4,
 "nbformat_minor": 5
}
